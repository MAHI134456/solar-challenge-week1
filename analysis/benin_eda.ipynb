{
 "cells": [
  {
   "cell_type": "markdown",
   "id": "c19b41c7",
   "metadata": {},
   "source": [
    "# exploratory analysis for benin solar dataset\n",
    "This notbook performs EDA on the benin solar dataset, including summary statistics ,missing value report, outlier detection, time series analysis, group by cleaning flag, correlation & relationship analysis, wind didtribution analysis, tempreture analysis and buble chart."
   ]
  },
  {
   "cell_type": "code",
   "execution_count": null,
   "id": "534397a0",
   "metadata": {},
   "outputs": [
    {
     "ename": "ModuleNotFoundError",
     "evalue": "No module named 'analysis'",
     "output_type": "error",
     "traceback": [
      "\u001b[31m---------------------------------------------------------------------------\u001b[39m",
      "\u001b[31mModuleNotFoundError\u001b[39m                       Traceback (most recent call last)",
      "\u001b[36mCell\u001b[39m\u001b[36m \u001b[39m\u001b[32mIn[4]\u001b[39m\u001b[32m, line 6\u001b[39m\n\u001b[32m      4\u001b[39m project_root = \u001b[33mr\u001b[39m\u001b[33m'\u001b[39m\u001b[33mC:\u001b[39m\u001b[33m\\\u001b[39m\u001b[33mUsers\u001b[39m\u001b[33m\\\u001b[39m\u001b[33mUsers\u001b[39m\u001b[33m\\\u001b[39m\u001b[33mtsion\u001b[39m\u001b[33m\\\u001b[39m\u001b[33mOneDrive\u001b[39m\u001b[33m\\\u001b[39m\u001b[33mDesktop\u001b[39m\u001b[33m\\\u001b[39m\u001b[33msolar-challenge-week1\u001b[39m\u001b[33m'\u001b[39m\n\u001b[32m      5\u001b[39m sys.path.append(project_root)\n\u001b[32m----> \u001b[39m\u001b[32m6\u001b[39m \u001b[38;5;28;01mfrom\u001b[39;00m\u001b[38;5;250m \u001b[39m\u001b[34;01manalysis\u001b[39;00m\u001b[38;5;250m \u001b[39m\u001b[38;5;28;01mimport\u001b[39;00m perform_eda \n\u001b[32m      8\u001b[39m \u001b[38;5;66;03m# define input parameters \u001b[39;00m\n\u001b[32m      9\u001b[39m csv_file= \u001b[33m'\u001b[39m\u001b[33mdata/benin-malanville.csv\u001b[39m\u001b[33m'\u001b[39m\n",
      "\u001b[31mModuleNotFoundError\u001b[39m: No module named 'analysis'"
     ]
    }
   ],
   "source": [
    "# import the perform_eda function\n",
    "import sys\n",
    "import os\n",
    "project_root = r'C:\\Users\\tsion\\OneDrive\\Desktop\\solar-challenge-week1'\n",
    "os.chdir(project_root)\n",
    "sys.path.append(project_root)\n",
    "\n",
    "# Verify working directory and sys.path\n",
    "print(\"Current working directory:\", os.getcwd())\n",
    "print(\"sys.path:\", sys.path)\n",
    "from analysis import perform_eda \n",
    "\n",
    "# define input parameters \n",
    "csv_file= 'data/benin-malanville.csv'\n",
    "country= 'benin'\n",
    "\n",
    "# run the eda\n",
    "df = perform_eda(csv_file, country, output_dir='analysis')"
   ]
  },
  {
   "cell_type": "code",
   "execution_count": null,
   "id": "9f20777e",
   "metadata": {},
   "outputs": [],
   "source": []
  }
 ],
 "metadata": {
  "kernelspec": {
   "display_name": ".venv",
   "language": "python",
   "name": "python3"
  },
  "language_info": {
   "codemirror_mode": {
    "name": "ipython",
    "version": 3
   },
   "file_extension": ".py",
   "mimetype": "text/x-python",
   "name": "python",
   "nbconvert_exporter": "python",
   "pygments_lexer": "ipython3",
   "version": "3.13.3"
  }
 },
 "nbformat": 4,
 "nbformat_minor": 5
}
