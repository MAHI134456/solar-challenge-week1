{
 "cells": [
  {
   "cell_type": "markdown",
   "id": "c19b41c7",
   "metadata": {},
   "source": [
    "# exploratory analysis for benin solar dataset\n",
    "This notbook performs EDA on the benin solar dataset, including summary statistics ,missing value report, outlier detection, time series analysis, group by cleaning flag, correlation & relationship analysis, wind didtribution analysis, tempreture analysis and buble chart."
   ]
  },
  {
   "cell_type": "code",
   "execution_count": null,
   "id": "534397a0",
   "metadata": {},
   "outputs": [
    {
     "name": "stdout",
     "output_type": "stream",
     "text": [
      "Current working directory: C:\\Users\\tsion\\OneDrive\\Desktop\\solar-challenge-week1\n",
      "sys.path: ['C:\\\\Users\\\\tsion\\\\AppData\\\\Local\\\\Programs\\\\Python\\\\Python313\\\\python313.zip', 'C:\\\\Users\\\\tsion\\\\AppData\\\\Local\\\\Programs\\\\Python\\\\Python313\\\\DLLs', 'C:\\\\Users\\\\tsion\\\\AppData\\\\Local\\\\Programs\\\\Python\\\\Python313\\\\Lib', 'C:\\\\Users\\\\tsion\\\\AppData\\\\Local\\\\Programs\\\\Python\\\\Python313', 'c:\\\\Users\\\\tsion\\\\OneDrive\\\\Desktop\\\\solar-challenge-week1\\\\.venv', '', 'c:\\\\Users\\\\tsion\\\\OneDrive\\\\Desktop\\\\solar-challenge-week1\\\\.venv\\\\Lib\\\\site-packages', 'c:\\\\Users\\\\tsion\\\\OneDrive\\\\Desktop\\\\solar-challenge-week1\\\\.venv\\\\Lib\\\\site-packages\\\\win32', 'c:\\\\Users\\\\tsion\\\\OneDrive\\\\Desktop\\\\solar-challenge-week1\\\\.venv\\\\Lib\\\\site-packages\\\\win32\\\\lib', 'c:\\\\Users\\\\tsion\\\\OneDrive\\\\Desktop\\\\solar-challenge-week1\\\\.venv\\\\Lib\\\\site-packages\\\\Pythonwin', 'C:\\\\Users\\\\tsion\\\\OneDrive\\\\Desktop\\\\solar-challenge-week1']\n"
     ]
    },
    {
     "ename": "ModuleNotFoundError",
     "evalue": "No module named 'windrose'",
     "output_type": "error",
     "traceback": [
      "\u001b[31m---------------------------------------------------------------------------\u001b[39m",
      "\u001b[31mModuleNotFoundError\u001b[39m                       Traceback (most recent call last)",
      "\u001b[36mCell\u001b[39m\u001b[36m \u001b[39m\u001b[32mIn[1]\u001b[39m\u001b[32m, line 11\u001b[39m\n\u001b[32m      9\u001b[39m \u001b[38;5;28mprint\u001b[39m(\u001b[33m\"\u001b[39m\u001b[33mCurrent working directory:\u001b[39m\u001b[33m\"\u001b[39m, os.getcwd())\n\u001b[32m     10\u001b[39m \u001b[38;5;28mprint\u001b[39m(\u001b[33m\"\u001b[39m\u001b[33msys.path:\u001b[39m\u001b[33m\"\u001b[39m, sys.path)\n\u001b[32m---> \u001b[39m\u001b[32m11\u001b[39m \u001b[38;5;28;01mfrom\u001b[39;00m\u001b[38;5;250m \u001b[39m\u001b[34;01manalysis\u001b[39;00m\u001b[38;5;250m \u001b[39m\u001b[38;5;28;01mimport\u001b[39;00m perform_eda \n\u001b[32m     13\u001b[39m \u001b[38;5;66;03m# define input parameters \u001b[39;00m\n\u001b[32m     14\u001b[39m csv_file= \u001b[33m'\u001b[39m\u001b[33mdata/benin-malanville.csv\u001b[39m\u001b[33m'\u001b[39m\n",
      "\u001b[36mFile \u001b[39m\u001b[32m~\\OneDrive\\Desktop\\solar-challenge-week1\\analysis\\__init__.py:2\u001b[39m\n\u001b[32m      1\u001b[39m \u001b[38;5;66;03m#analysis/__init__.py\u001b[39;00m\n\u001b[32m----> \u001b[39m\u001b[32m2\u001b[39m \u001b[38;5;28;01mfrom\u001b[39;00m\u001b[38;5;250m \u001b[39m\u001b[34;01m.\u001b[39;00m\u001b[34;01meda\u001b[39;00m\u001b[38;5;250m \u001b[39m\u001b[38;5;28;01mimport\u001b[39;00m perform_eda\n",
      "\u001b[36mFile \u001b[39m\u001b[32m~\\OneDrive\\Desktop\\solar-challenge-week1\\analysis\\eda.py:5\u001b[39m\n\u001b[32m      3\u001b[39m \u001b[38;5;28;01mfrom\u001b[39;00m\u001b[38;5;250m \u001b[39m\u001b[34;01mscipy\u001b[39;00m\u001b[38;5;250m \u001b[39m\u001b[38;5;28;01mimport\u001b[39;00m stats\n\u001b[32m      4\u001b[39m \u001b[38;5;28;01mimport\u001b[39;00m\u001b[38;5;250m \u001b[39m\u001b[34;01mseaborn\u001b[39;00m\u001b[38;5;250m \u001b[39m\u001b[38;5;28;01mas\u001b[39;00m\u001b[38;5;250m \u001b[39m\u001b[34;01msns\u001b[39;00m\n\u001b[32m----> \u001b[39m\u001b[32m5\u001b[39m \u001b[38;5;28;01mfrom\u001b[39;00m\u001b[38;5;250m \u001b[39m\u001b[34;01mwindrose\u001b[39;00m\u001b[38;5;250m \u001b[39m\u001b[38;5;28;01mimport\u001b[39;00m WindroseAxes\n\u001b[32m      6\u001b[39m \u001b[38;5;28;01mimport\u001b[39;00m\u001b[38;5;250m \u001b[39m\u001b[34;01mnumpy\u001b[39;00m\u001b[38;5;250m \u001b[39m\u001b[38;5;28;01mas\u001b[39;00m\u001b[38;5;250m \u001b[39m\u001b[34;01mnp\u001b[39;00m\n\u001b[32m      8\u001b[39m \u001b[38;5;66;03m# this next function would be a function that performs EDA for all the three branches when called\u001b[39;00m\n",
      "\u001b[31mModuleNotFoundError\u001b[39m: No module named 'windrose'"
     ]
    }
   ],
   "source": [
    "import sys\n",
    "import os\n",
    "import pandas as pd\n",
    "\n",
    "project_root = r'C:\\Users\\tsion\\OneDrive\\Desktop\\solar-challenge-week1'\n",
    "os.chdir(project_root)\n",
    "sys.path.append(project_root)\n",
    "\n",
    "# Verify working directory and sys.path\n",
    "print(\"Current working directory:\", os.getcwd())\n",
    "print(\"sys.path:\", sys.path)\n",
    "\n",
    "# Import perform_eda from the eda.py file using importlib\n",
    "import importlib.util\n",
    "\n",
    "spec = importlib.util.spec_from_file_location(\"eda\", r'C:\\Users\\tsion\\OneDrive\\Desktop\\solar-challenge-week1\\analysis\\eda.py')\n",
    "eda = importlib.util.module_from_spec(spec)\n",
    "spec.loader.exec_module(eda)\n",
    "perform_eda = eda.perform_eda\n",
    "\n",
    "# define input parameters \n",
    "csv_file = 'data/benin-malanville.csv'\n",
    "country = 'benin'\n",
    "output_dir = 'notbook/benin_eda_output'\n",
    "os.makedirs(output_dir, exist_ok=True)\n",
    "\n",
    "# run the eda\n",
    "df = perform_eda(csv_file, country, output_dir=output_dir)"
   ]
  },
  {
   "cell_type": "code",
   "execution_count": null,
   "id": "9f20777e",
   "metadata": {},
   "outputs": [],
   "source": []
  }
 ],
 "metadata": {
  "kernelspec": {
   "display_name": ".venv",
   "language": "python",
   "name": "python3"
  },
  "language_info": {
   "codemirror_mode": {
    "name": "ipython",
    "version": 3
   },
   "file_extension": ".py",
   "mimetype": "text/x-python",
   "name": "python",
   "nbconvert_exporter": "python",
   "pygments_lexer": "ipython3",
   "version": "3.13.3"
  }
 },
 "nbformat": 4,
 "nbformat_minor": 5
}
