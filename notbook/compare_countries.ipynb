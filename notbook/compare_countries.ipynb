{
 "cells": [
  {
   "cell_type": "markdown",
   "id": "4a3d2c7c",
   "metadata": {},
   "source": [
    "# Cross-Country Solar Potential Comparison\n",
    "Analyze solar potential (GHI, DNI, DHI) across Benin, Sierra Leone, and Togo using cleaned datasets."
   ]
  },
  {
   "cell_type": "code",
   "execution_count": 4,
   "id": "d5f422de",
   "metadata": {},
   "outputs": [
    {
     "name": "stdout",
     "output_type": "stream",
     "text": [
      "Working directory: C:\\Users\\tsion\\OneDrive\\Desktop\\solar-challenge-week1\n",
      "Dataset size: (1576800, 20) rows, 20 columns\n"
     ]
    }
   ],
   "source": [
    "# Import libraries for data analysis and visualization\n",
    "import pandas as pd\n",
    "import matplotlib.pyplot as plt\n",
    "import seaborn as sns\n",
    "from scipy.stats import kruskal\n",
    "import os\n",
    "\n",
    "# Define project paths\n",
    "PROJECT_ROOT = r'C:\\Users\\tsion\\OneDrive\\Desktop\\solar-challenge-week1'\n",
    "OUTPUT_DIR = 'notbook/notbook_compare_countries_output'\n",
    "\n",
    "# Create output directory and set working directory\n",
    "os.makedirs(OUTPUT_DIR, exist_ok=True)\n",
    "os.chdir(PROJECT_ROOT)\n",
    "print(f'Working directory: {os.getcwd()}')\n",
    "\n",
    "# load the dataset\n",
    "def load_cleaned_data():\n",
    "    \"\"\"Load and combine cleaned CSV files with a Country column.\"\"\"\n",
    "    # Load each country's data\n",
    "    benin = pd.read_csv('data/benin_clean.csv')\n",
    "    togo = pd.read_csv('data/togo_clean.csv')\n",
    "    sierra = pd.read_csv('data/sierraleone_clean.csv')\n",
    "\n",
    "    # Add Country identifier\n",
    "    benin['Country'] = 'Benin'\n",
    "    togo['Country'] = 'Togo'\n",
    "    sierra['Country'] = 'Sierra Leone'\n",
    "\n",
    "    # Combine datasets\n",
    "    combined = pd.concat([benin, togo, sierra], ignore_index=True)\n",
    "    print(f'Dataset size: {combined.shape} rows, {combined.columns.size} columns')\n",
    "    return combined\n",
    "\n",
    "# Load data\n",
    "solar_data = load_cleaned_data()"
   ]
  },
  {
   "cell_type": "markdown",
   "id": "595c3411",
   "metadata": {},
   "source": [
    "## Create Boxplots\n",
    "\n",
    "Generate boxplots to compare GHI, DNI, and DHI distributions across countries."
   ]
  },
  {
   "cell_type": "code",
   "execution_count": 5,
   "id": "9c34986a",
   "metadata": {},
   "outputs": [
    {
     "name": "stderr",
     "output_type": "stream",
     "text": [
      "C:\\Users\\tsion\\AppData\\Local\\Temp\\ipykernel_26284\\3408937755.py:5: FutureWarning: \n",
      "\n",
      "Passing `palette` without assigning `hue` is deprecated and will be removed in v0.14.0. Assign the `x` variable to `hue` and set `legend=False` for the same effect.\n",
      "\n",
      "  sns.boxplot(x='Country', y=metric, data=data, palette='Set2')\n"
     ]
    },
    {
     "name": "stdout",
     "output_type": "stream",
     "text": [
      "Generated: notbook/notbook_compare_countries_output/GHI_boxplot.png\n"
     ]
    },
    {
     "name": "stderr",
     "output_type": "stream",
     "text": [
      "C:\\Users\\tsion\\AppData\\Local\\Temp\\ipykernel_26284\\3408937755.py:5: FutureWarning: \n",
      "\n",
      "Passing `palette` without assigning `hue` is deprecated and will be removed in v0.14.0. Assign the `x` variable to `hue` and set `legend=False` for the same effect.\n",
      "\n",
      "  sns.boxplot(x='Country', y=metric, data=data, palette='Set2')\n"
     ]
    },
    {
     "name": "stdout",
     "output_type": "stream",
     "text": [
      "Generated: notbook/notbook_compare_countries_output/DNI_boxplot.png\n"
     ]
    },
    {
     "name": "stderr",
     "output_type": "stream",
     "text": [
      "C:\\Users\\tsion\\AppData\\Local\\Temp\\ipykernel_26284\\3408937755.py:5: FutureWarning: \n",
      "\n",
      "Passing `palette` without assigning `hue` is deprecated and will be removed in v0.14.0. Assign the `x` variable to `hue` and set `legend=False` for the same effect.\n",
      "\n",
      "  sns.boxplot(x='Country', y=metric, data=data, palette='Set2')\n"
     ]
    },
    {
     "name": "stdout",
     "output_type": "stream",
     "text": [
      "Generated: notbook/notbook_compare_countries_output/DHI_boxplot.png\n"
     ]
    }
   ],
   "source": [
    "def create_boxplots(data, metrics, output_dir):\n",
    "    \"\"\"Create boxplots for each metric, colored by country.\"\"\"\n",
    "    for metric in metrics:\n",
    "        plt.figure(figsize=(8, 6))\n",
    "        sns.boxplot(x='Country', y=metric, data=data, palette='Set2')\n",
    "        plt.title(f'{metric} Distribution by Country', fontsize=12)\n",
    "        plt.xlabel('Country', fontsize=10)\n",
    "        plt.ylabel(f'{metric} (W/m²)', fontsize=10)\n",
    "        plt.tight_layout()\n",
    "        plt.savefig(f'{output_dir}/{metric}_boxplot.png', dpi=300)\n",
    "        plt.close()\n",
    "        print(f'Generated: {output_dir}/{metric}_boxplot.png')\n",
    "\n",
    "# Plot boxplots\n",
    "metrics = ['GHI', 'DNI', 'DHI']\n",
    "create_boxplots(solar_data, metrics, OUTPUT_DIR)"
   ]
  },
  {
   "cell_type": "markdown",
   "id": "f9c978c4",
   "metadata": {},
   "source": [
    "## Summary Table\n",
    "\n",
    "Calculate mean, median, and standard deviation for GHI, DNI, and DHI by country"
   ]
  },
  {
   "cell_type": "code",
   "execution_count": 6,
   "id": "f7ccab5d",
   "metadata": {},
   "outputs": [
    {
     "name": "stdout",
     "output_type": "stream",
     "text": [
      "Summary Table:\n",
      "              GHI_mean  GHI_median  GHI_std  DNI_mean  DNI_median  DNI_std  \\\n",
      "Country                                                                      \n",
      "Benin           239.98         1.8   329.68    166.93        -0.1   261.02   \n",
      "Sierra Leone    203.55         0.3   294.18    116.10         0.0   217.20   \n",
      "Togo            231.01         2.1   319.84    150.90         0.0   249.93   \n",
      "\n",
      "              DHI_mean  DHI_median  DHI_std  \n",
      "Country                                      \n",
      "Benin           114.96         1.6   157.43  \n",
      "Sierra Leone    115.76         0.0   155.42  \n",
      "Togo            116.01         2.5   155.17  \n"
     ]
    }
   ],
   "source": [
    "def generate_summary_table(data, metrics, output_dir):\n",
    "    \"\"\"Compute summary statistics and save as CSV.\"\"\"\n",
    "    summary = data.groupby('Country')[metrics].agg(['mean', 'median', 'std']).round(2)\n",
    "    summary.columns = [f'{metric}_{stat}' for metric, stat in summary.columns]\n",
    "    summary.to_csv(f'{output_dir}/summary_table.csv')\n",
    "    print('Summary Table:')\n",
    "    print(summary)\n",
    "    return summary\n",
    "\n",
    "# Create summary table\n",
    "summary_stats = generate_summary_table(solar_data, metrics, OUTPUT_DIR)"
   ]
  },
  {
   "cell_type": "markdown",
   "id": "e66368af",
   "metadata": {},
   "source": [
    "## Statistical Test\n",
    "\n",
    "Use the Kruskal-Wallis test to check if GHI differences between countries are significant."
   ]
  },
  {
   "cell_type": "code",
   "execution_count": 7,
   "id": "f38626cd",
   "metadata": {},
   "outputs": [
    {
     "name": "stdout",
     "output_type": "stream",
     "text": [
      "Kruskal-Wallis Test for GHI:\n",
      "  Statistic: 53816.36\n",
      "  P-value: 0.0000\n",
      "  Interpretation: Significant differences (p < 0.05)\n"
     ]
    }
   ],
   "source": [
    "def run_kruskal_wallis(data, metric='GHI'):\n",
    "    \"\"\"Perform Kruskal-Wallis test on a metric.\"\"\"\n",
    "    groups = [\n",
    "        data[data['Country'] == country][metric].dropna()\n",
    "        for country in ['Benin', 'Togo', 'Sierra Leone']\n",
    "    ]\n",
    "    stat, p_value = kruskal(*groups)\n",
    "    print(f'Kruskal-Wallis Test for {metric}:')\n",
    "    print(f'  Statistic: {stat:.2f}')\n",
    "    print(f'  P-value: {p_value:.4f}')\n",
    "    print('  Interpretation:', 'Significant differences (p < 0.05)' if p_value < 0.05 else 'No significant differences (p >= 0.05)')\n",
    "\n",
    "# Test GHI\n",
    "run_kruskal_wallis(solar_data, 'GHI')"
   ]
  },
  {
   "cell_type": "markdown",
   "id": "c190f850",
   "metadata": {},
   "source": [
    "## Rank Countries by GHI\n",
    "\n",
    "Create a bar chart ranking countries by their average GHI."
   ]
  },
  {
   "cell_type": "code",
   "execution_count": 8,
   "id": "a7dc0e80",
   "metadata": {},
   "outputs": [
    {
     "name": "stderr",
     "output_type": "stream",
     "text": [
      "C:\\Users\\tsion\\AppData\\Local\\Temp\\ipykernel_26284\\3560873085.py:5: FutureWarning: \n",
      "\n",
      "Passing `palette` without assigning `hue` is deprecated and will be removed in v0.14.0. Assign the `y` variable to `hue` and set `legend=False` for the same effect.\n",
      "\n",
      "  sns.barplot(x=avg_ghi.values, y=avg_ghi.index, palette='Set2')\n"
     ]
    },
    {
     "name": "stdout",
     "output_type": "stream",
     "text": [
      "Generated: notbook/notbook_compare_countries_output/ghi_ranking.png\n"
     ]
    }
   ],
   "source": [
    "def plot_ghi_ranking(data, output_dir):\n",
    "    \"\"\"Plot a bar chart of average GHI by country.\"\"\"\n",
    "    avg_ghi = data.groupby('Country')['GHI'].mean().sort_values(ascending=False)\n",
    "    plt.figure(figsize=(8, 6))\n",
    "    sns.barplot(x=avg_ghi.values, y=avg_ghi.index, palette='Set2')\n",
    "    plt.title('Average GHI Ranking by Country', fontsize=12)\n",
    "    plt.xlabel('Mean GHI (W/m²)', fontsize=10)\n",
    "    plt.ylabel('Country', fontsize=10)\n",
    "    plt.tight_layout()\n",
    "    plt.savefig(f'{output_dir}/ghi_ranking.png', dpi=300)\n",
    "    plt.close()\n",
    "    print(f'Generated: {output_dir}/ghi_ranking.png')\n",
    "\n",
    "# Plot ranking\n",
    "plot_ghi_ranking(solar_data, OUTPUT_DIR)"
   ]
  },
  {
   "cell_type": "markdown",
   "id": "cc4153b4",
   "metadata": {},
   "source": [
    "## Observations\n",
    "\n",
    "- **Benin exhibits the highest solar potential**, with a mean GHI of 239.98 W/m² and DNI of 166.93 W/m², making it the best candidate for photovoltaic (PV) and concentrated solar power (CSP) installations. The boxplot shows a higher median GHI (around 400-500 W/m²) and significant variability (GHI std = 329.68), suggesting the need for energy storage to handle fluctuations, especially with outliers reaching 1000 W/m².\n",
    "- **Sierra Leone shows the lowest solar irradiance**, with a mean GHI of 203.55 W/m² and DNI of 116.1 W/m², indicating less suitability for large-scale solar projects. Its lower GHI variability (std = 294.18) and boxplot median (around 300-400 W/m²) suggest more stable but reduced solar conditions, potentially due to cloud cover or humidity.\n",
    "- **Togo offers a competitive middle ground**, with a mean GHI of 231.01 W/m² and the highest DHI (116.01 W/m²), suitable for diffuse-light-dependent systems like thin-film PV. The Kruskal-Wallis test (p-value = 0.0000) confirms significant GHI differences across countries, and Togo’s boxplot shows a robust median (around 400-500 W/m²) with moderate variability (std = 319.84), indicating consistent solar potential."
   ]
  }
 ],
 "metadata": {
  "kernelspec": {
   "display_name": "Python 3",
   "language": "python",
   "name": "python3"
  },
  "language_info": {
   "codemirror_mode": {
    "name": "ipython",
    "version": 3
   },
   "file_extension": ".py",
   "mimetype": "text/x-python",
   "name": "python",
   "nbconvert_exporter": "python",
   "pygments_lexer": "ipython3",
   "version": "3.13.3"
  }
 },
 "nbformat": 4,
 "nbformat_minor": 5
}
